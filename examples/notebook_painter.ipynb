{
 "cells": [
  {
   "cell_type": "markdown",
   "metadata": {
    "slideshow": {
     "slide_type": "slide"
    }
   },
   "source": [
    "# Paint Notebook\n",
    "\n",
    "This notebooks shows the use of the NotebookPainter, an ipython widget that allows you to paint in your notebook and send that image to Python in a Numpy array.\n",
    "\n",
    "As this app is based on several external Javascript libraries, you will need internet access to see it in action."
   ]
  },
  {
   "cell_type": "code",
   "execution_count": 1,
   "metadata": {
    "ExecuteTime": {
     "end_time": "2019-10-14T01:24:22.254036Z",
     "start_time": "2019-10-14T01:24:19.773060Z"
    },
    "hideCode": false,
    "hidePrompt": false,
    "slideshow": {
     "slide_type": "slide"
    }
   },
   "outputs": [
    {
     "data": {
      "text/html": [
       "\n",
       "    <script src=\"https://code.jquery.com/jquery-3.1.0.min.js\"></script>\n",
       "    <script src=\"https://d3js.org/d3.v4.min.js\"></script>\n",
       "    <script src=\"https://cdnjs.cloudflare.com/ajax/libs/fabric.js/1.6.3/fabric.min.js\"></script>\n",
       "    <script>\n",
       "        function whenAvailable(name, callback) {\n",
       "            var interval = 10; // ms\n",
       "            window.setTimeout(function() {\n",
       "                if (window[name]) {\n",
       "                    callback(window[name]);\n",
       "                } else {\n",
       "                    window.setTimeout(arguments.callee, interval);\n",
       "                }\n",
       "            }, interval);\n",
       "        }\n",
       "\n",
       "        function createCanvas(w, h){\n",
       "            var canvas = document.createElement(\"canvas\");\n",
       "            canvas.width = w;\n",
       "            canvas.height = h;\n",
       "\n",
       "            return canvas;\n",
       "        }\n",
       "\n",
       "        function getImgFromCanvas(canvas)\n",
       "        {\n",
       "            var p = new Promise(resolve => {\n",
       "                var img = new Image();\n",
       "                img.onload = function () {\n",
       "                    resolve(img)\n",
       "                };\n",
       "                img.src = canvas.toDataURL(\"png\");\n",
       "            });\n",
       "\n",
       "            return p;\n",
       "        }\n",
       "\n",
       "        function resize(img, w, h)\n",
       "        {\n",
       "            var canvas = createCanvas(w, h);\n",
       "            var ctx = canvas.getContext(\"2d\");\n",
       "\n",
       "            ctx.drawImage(img, 0, 0, w, h);\n",
       "\n",
       "            return getImgFromCanvas(canvas);\n",
       "        }\n",
       "\n",
       "        function getBinaryMatrix(img, w, h)\n",
       "        {\n",
       "            var canvasAux = createCanvas(w, h);\n",
       "            var ctxAux = canvasAux.getContext(\"2d\");\n",
       "            ctxAux.drawImage(img, 0, 0, w, h);\n",
       "\n",
       "            var data = ctxAux.getImageData(0, 0, w, h).data;\n",
       "            var x = new Array(h);\n",
       "            for (var i = 0; i < h; i++) {\n",
       "                x[i] = new Array(w);\n",
       "            }\n",
       "\n",
       "            for (var i = 0; i < data.length; i += 4) {\n",
       "                var r = Math.floor(i / (4 * h))\n",
       "                var c = (i / 4) % w\n",
       "                var dark = (data[i] + data[i+1] + data[i+2]) / 3 <= 128\n",
       "                var transparent = data[i + 3] <= 128\n",
       "                x[r][c] = transparent || !dark ? 0 : 1;\n",
       "            }\n",
       "\n",
       "            return x;\n",
       "        }\n",
       "\n",
       "        function sendToPy(matrix) {\n",
       "            var matrix_str = JSON.stringify(matrix);\n",
       "            var kernel = IPython.notebook.kernel;\n",
       "            command = \"NotebookPainter._instances['5389a7f0-1306-48ed-abf3-df4d4973c5e2']._data.append(\" + matrix_str + \")\";\n",
       "            console.log(command);\n",
       "            kernel.execute(command);\n",
       "        }\n",
       "\n",
       "        whenAvailable(\"fabric\", function () {\n",
       "            var data = [];\n",
       "            var canvas = new fabric.Canvas('canvas_5389a7f0-1306-48ed-abf3-df4d4973c5e2');\n",
       "            canvas.isDrawingMode = true;\n",
       "            canvas.freeDrawingBrush.width = 37;\n",
       "            canvas.freeDrawingBrush.color = \"black\";\n",
       "            //canvas.backgroundColor = \"white\";\n",
       "\n",
       "            $(\"#clear_btn_5389a7f0-1306-48ed-abf3-df4d4973c5e2\").click(function () { canvas.clear() })\n",
       "            $(\"#add_btn_5389a7f0-1306-48ed-abf3-df4d4973c5e2\").click(async function () {\n",
       "                var w = 16;\n",
       "                var h = 16;\n",
       "\n",
       "                var img = await getImgFromCanvas(canvas);\n",
       "                var resizedImg = await resize(img, w, h);\n",
       "                $(\"#gallery_5389a7f0-1306-48ed-abf3-df4d4973c5e2\").append(resizedImg);\n",
       "\n",
       "                var matrix = getBinaryMatrix(img, w, h);\n",
       "                sendToPy(matrix);\n",
       "            });\n",
       "        })\n",
       "    </script>\n",
       "\n",
       "    <style>\n",
       "\n",
       "        canvas {\n",
       "            border: solid 1px;\n",
       "        }\n",
       "\n",
       "        .button-container {\n",
       "            padding: 10px;\n",
       "        }\n",
       "\n",
       "        .button-container > button {\n",
       "            border: none;\n",
       "            color: white;\n",
       "            padding: 10px 20px;\n",
       "            text-align: center;\n",
       "            text-decoration: none;\n",
       "            display: inline-block;\n",
       "            font-size: 16px;\n",
       "        }\n",
       "\n",
       "        .gallery > img {\n",
       "            display: inline-block;\n",
       "            vertical-align: unset;\n",
       "        }\n",
       "\n",
       "        .green-btn {background-color: #4CAF50;}\n",
       "        .blue-btn {background-color: #008CBA;}\n",
       "        .red-btn {background-color: #f44336;}\n",
       "        .white-btn {background-color: #e7e7e7; color: black !important;}\n",
       "        .black-btn {background-color: #555555;}\n",
       "\n",
       "    </style>\n",
       "\n",
       "    <div width=\"300\">\n",
       "        <h1></h1>\n",
       "        <canvas id=\"canvas_5389a7f0-1306-48ed-abf3-df4d4973c5e2\"\n",
       "                width=\"250\"\n",
       "                height=\"250\">\n",
       "        </canvas>\n",
       "        <div class=\"button-container\">\n",
       "            <button id=\"clear_btn_5389a7f0-1306-48ed-abf3-df4d4973c5e2\" class=\"blue-btn\">\n",
       "                <i class=\"fa fa-eraser\" aria-hidden=\"true\"></i> Clear\n",
       "            </button>\n",
       "            <button id=\"add_btn_5389a7f0-1306-48ed-abf3-df4d4973c5e2\" class=\"green-btn\">\n",
       "                <i class=\"fa fa-plus\" aria-hidden=\"true\"></i> Add\n",
       "            </button>\n",
       "        </div>\n",
       "        <div id=\"gallery_5389a7f0-1306-48ed-abf3-df4d4973c5e2\" class=\"gallery\"></div>\n",
       "    </div>\n",
       "\n"
      ],
      "text/plain": [
       "<aidictive.demos.paint.NotebookPainter at 0x7ffa8deb9b00>"
      ]
     },
     "execution_count": 1,
     "metadata": {},
     "output_type": "execute_result"
    }
   ],
   "source": [
    "from aidictive.demos import NotebookPainter\n",
    "\n",
    "PAINT_W, PAINT_H = 250, 250\n",
    "IMAGE_W, IMAGE_H = 16, 16\n",
    "painter = NotebookPainter(PAINT_W, PAINT_H, IMAGE_W, IMAGE_H)\n",
    "painter"
   ]
  },
  {
   "cell_type": "markdown",
   "metadata": {
    "slideshow": {
     "slide_type": "slide"
    }
   },
   "source": [
    "# Use the data\n",
    "\n",
    "Move that data to Python using a Numpy array `X`."
   ]
  },
  {
   "cell_type": "code",
   "execution_count": 12,
   "metadata": {
    "ExecuteTime": {
     "end_time": "2019-10-10T10:01:49.762191Z",
     "start_time": "2019-10-10T10:01:49.737485Z"
    },
    "slideshow": {
     "slide_type": "subslide"
    }
   },
   "outputs": [
    {
     "data": {
      "text/plain": [
       "(1, 16, 16)"
      ]
     },
     "execution_count": 12,
     "metadata": {},
     "output_type": "execute_result"
    }
   ],
   "source": [
    "X = painter.get_numpy_data()\n",
    "X.shape"
   ]
  },
  {
   "cell_type": "code",
   "execution_count": 13,
   "metadata": {
    "ExecuteTime": {
     "end_time": "2019-10-10T10:01:50.308664Z",
     "start_time": "2019-10-10T10:01:50.256886Z"
    },
    "slideshow": {
     "slide_type": "subslide"
    }
   },
   "outputs": [
    {
     "data": {
      "text/plain": [
       "array([[[0., 0., 0., 0., 0., 0., 0., 0., 0., 0., 0., 0., 0., 0., 0., 0.],\n",
       "        [0., 0., 0., 0., 0., 0., 0., 0., 0., 0., 0., 0., 0., 0., 0., 0.],\n",
       "        [0., 0., 0., 0., 0., 0., 1., 1., 1., 0., 0., 0., 0., 0., 0., 0.],\n",
       "        [0., 0., 0., 0., 1., 1., 1., 1., 1., 1., 1., 0., 0., 0., 0., 0.],\n",
       "        [0., 0., 0., 0., 1., 1., 1., 1., 1., 1., 1., 1., 1., 0., 0., 0.],\n",
       "        [0., 0., 0., 1., 1., 1., 0., 0., 0., 0., 1., 1., 1., 1., 0., 0.],\n",
       "        [0., 0., 0., 1., 1., 1., 0., 0., 0., 0., 0., 1., 1., 1., 0., 0.],\n",
       "        [0., 0., 0., 1., 1., 1., 0., 0., 0., 0., 0., 0., 1., 1., 0., 0.],\n",
       "        [0., 0., 0., 1., 1., 1., 0., 0., 0., 0., 0., 0., 1., 1., 0., 0.],\n",
       "        [0., 0., 0., 1., 1., 1., 0., 0., 0., 0., 0., 1., 1., 1., 0., 0.],\n",
       "        [0., 0., 0., 0., 1., 1., 1., 1., 1., 1., 1., 1., 1., 0., 0., 0.],\n",
       "        [0., 0., 0., 0., 0., 1., 1., 1., 1., 1., 1., 1., 0., 0., 0., 0.],\n",
       "        [0., 0., 0., 0., 0., 0., 0., 0., 0., 0., 0., 0., 0., 0., 0., 0.],\n",
       "        [0., 0., 0., 0., 0., 0., 0., 0., 0., 0., 0., 0., 0., 0., 0., 0.],\n",
       "        [0., 0., 0., 0., 0., 0., 0., 0., 0., 0., 0., 0., 0., 0., 0., 0.],\n",
       "        [0., 0., 0., 0., 0., 0., 0., 0., 0., 0., 0., 0., 0., 0., 0., 0.]]])"
      ]
     },
     "execution_count": 13,
     "metadata": {},
     "output_type": "execute_result"
    }
   ],
   "source": [
    "X"
   ]
  },
  {
   "cell_type": "code",
   "execution_count": 14,
   "metadata": {
    "ExecuteTime": {
     "end_time": "2019-10-10T10:01:51.329605Z",
     "start_time": "2019-10-10T10:01:51.274324Z"
    },
    "slideshow": {
     "slide_type": "slide"
    }
   },
   "outputs": [
    {
     "name": "stdout",
     "output_type": "stream",
     "text": [
      "                         Label: Unknown                         \n",
      "  0   0   0   0   0   0   0   0   0   0   0   0   0   0   0   0 \n",
      "  0   0   0   0   0   0   0   0   0   0   0   0   0   0   0   0 \n",
      "  0   0   0   0   0   0   1   1   1   0   0   0   0   0   0   0 \n",
      "  0   0   0   0   1   1   1   1   1   1   1   0   0   0   0   0 \n",
      "  0   0   0   0   1   1   1   1   1   1   1   1   1   0   0   0 \n",
      "  0   0   0   1   1   1   0   0   0   0   1   1   1   1   0   0 \n",
      "  0   0   0   1   1   1   0   0   0   0   0   1   1   1   0   0 \n",
      "  0   0   0   1   1   1   0   0   0   0   0   0   1   1   0   0 \n",
      "  0   0   0   1   1   1   0   0   0   0   0   0   1   1   0   0 \n",
      "  0   0   0   1   1   1   0   0   0   0   0   1   1   1   0   0 \n",
      "  0   0   0   0   1   1   1   1   1   1   1   1   1   0   0   0 \n",
      "  0   0   0   0   0   1   1   1   1   1   1   1   0   0   0   0 \n",
      "  0   0   0   0   0   0   0   0   0   0   0   0   0   0   0   0 \n",
      "  0   0   0   0   0   0   0   0   0   0   0   0   0   0   0   0 \n",
      "  0   0   0   0   0   0   0   0   0   0   0   0   0   0   0   0 \n",
      "  0   0   0   0   0   0   0   0   0   0   0   0   0   0   0   0 \n",
      "\n"
     ]
    }
   ],
   "source": [
    "import numpy as np\n",
    "\n",
    "\n",
    "def print_image(img, label=\"Unknown\"):\n",
    "    title = f\"Label: {label}\"\n",
    "    line_length = 4 * IMAGE_W\n",
    "    output = f\"{title:^{line_length}}\\n\"\n",
    "    for i in range(IMAGE_H):\n",
    "        for j in range(IMAGE_W):\n",
    "            value = img[i, j]\n",
    "            output += f\"{value:3d} \"\n",
    "        output += \"\\n\"\n",
    "    print(output)\n",
    "\n",
    "idx = 0\n",
    "print_image(X[idx].astype(\"int\"))"
   ]
  },
  {
   "cell_type": "code",
   "execution_count": 20,
   "metadata": {
    "ExecuteTime": {
     "end_time": "2019-10-10T10:09:18.442370Z",
     "start_time": "2019-10-10T10:09:17.831194Z"
    }
   },
   "outputs": [
    {
     "data": {
      "image/png": "[encoded data removed]",
      "text/plain": [
       "<Figure size 432x288 with 1 Axes>"
      ]
     },
     "metadata": {
      "needs_background": "light"
     },
     "output_type": "display_data"
    }
   ],
   "source": [
    "%matplotlib inline\n",
    "import matplotlib.pyplot as plt\n",
    "\n",
    "def plot_image(image, label=None, pred=None, ax=None):\n",
    "    if ax is None:\n",
    "        ax = plt.gca()\n",
    "    ax.axis(\"off\")\n",
    "    ax.imshow(image, cmap=\"binary\")\n",
    "    if label is not None:\n",
    "        ax.set_title(f\"Label: {label}\")\n",
    "\n",
    "# Index of the image to paint.\n",
    "idx = 0\n",
    "assert idx < X.shape[0]\n",
    "img = X[idx]\n",
    "plot_image(img.astype(\"float\"))"
   ]
  }
 ],
 "metadata": {
  "kernelspec": {
   "display_name": "Python 3",
   "language": "python",
   "name": "python3"
  },
  "language_info": {
   "codemirror_mode": {
    "name": "ipython",
    "version": 3
   },
   "file_extension": ".py",
   "mimetype": "text/x-python",
   "name": "python",
   "nbconvert_exporter": "python",
   "pygments_lexer": "ipython3",
   "version": "3.6.8"
  }
 },
 "nbformat": 4,
 "nbformat_minor": 2
}
